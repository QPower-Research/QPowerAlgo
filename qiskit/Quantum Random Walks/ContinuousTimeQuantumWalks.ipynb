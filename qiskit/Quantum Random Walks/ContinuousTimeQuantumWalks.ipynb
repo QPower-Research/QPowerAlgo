{
  "cells": [
    {
      "cell_type": "code",
      "source": [
        "import numpy as np\n",
        "from numpy import linalg as LA\n",
        "from scipy.linalg import expm, sinm, cosm\n",
        "import matplotlib.pyplot as plt\n",
        "import pandas as pd\n",
        "import seaborn as sns\n",
        "import math\n",
        "from scipy import stats\n",
        "%matplotlib inline\n",
        "\n",
        "from IPython.display import Image, display, Math, Latex\n",
        "sns.set(color_codes=True)"
      ],
      "outputs": [],
      "execution_count": 1,
      "metadata": {}
    },
    {
      "cell_type": "markdown",
      "source": [
        "# Continuous Time Quantum Walks"
      ],
      "metadata": {}
    },
    {
      "cell_type": "markdown",
      "source": [
        "## Continuous-Time Quantum Walks"
      ],
      "metadata": {}
    },
    {
      "cell_type": "markdown",
      "source": [
        "Now let's see an example of how it work on cycle graph $C_n$ for some numbers of vertices."
      ],
      "metadata": {}
    },
    {
      "cell_type": "code",
      "source": [
        "#number of vertices\n",
        "n = 4\n",
        "\n",
        "#Define adjacency matrix A_Cn\n",
        "A = np.zeros((n, n))\n",
        "for i in range(n):\n",
        "    j1 = (i - 1)%n\n",
        "    j2 = (i + 1)%n\n",
        "    A[i][j1] = 1\n",
        "    A[i][j2] = 1\n",
        "\n",
        "#Define our initial state Psi_a\n",
        "psi_a = np.zeros(n)\n",
        "psi_a[3] = 1\n",
        "\n",
        "#Define the time t >= 0\n",
        "t = math.pi/2\n",
        "\n",
        "#Exponentiate or hamiltonian\n",
        "U_t = expm(1j*t*A)\n",
        "U_mt = expm(1j*(-t)*A)\n",
        "\n",
        "#Compute Psi_t\n",
        "psi_t = U_t @ psi_a\n",
        "\n",
        "#Compute the probabilities\n",
        "prob_t = abs(psi_t)**2"
      ],
      "outputs": [],
      "execution_count": 2,
      "metadata": {}
    },
    {
      "cell_type": "code",
      "source": [
        "M_t = U_t*U_mt \n",
        "M_t = np.around(M_t, decimals = 3)\n",
        "M_t"
      ],
      "outputs": [
        {
          "output_type": "execute_result",
          "execution_count": 3,
          "data": {
            "text/plain": "array([[0.+0.j, 0.-0.j, 1.+0.j, 0.+0.j],\n       [0.+0.j, 0.+0.j, 0.+0.j, 1.+0.j],\n       [1.-0.j, 0.+0.j, 0.+0.j, 0.+0.j],\n       [0.+0.j, 1.-0.j, 0.+0.j, 0.+0.j]])"
          },
          "metadata": {}
        }
      ],
      "execution_count": 3,
      "metadata": {}
    },
    {
      "cell_type": "code",
      "source": [
        "x = M_t[:, 0].real\n",
        "plt.bar(range(len(x)), x, tick_label=[0, 1, 2, 3])\n",
        "plt.xlabel('Vertices')\n",
        "plt.ylabel('Probability')"
      ],
      "outputs": [
        {
          "output_type": "execute_result",
          "execution_count": 7,
          "data": {
            "text/plain": "Text(0, 0.5, 'Probability')"
          },
          "metadata": {}
        },
        {
          "output_type": "display_data",
          "data": {
            "image/png": "[encoded data removed]",
            "text/plain": "<Figure size 432x288 with 1 Axes>"
          },
          "metadata": {}
        }
      ],
      "execution_count": 7,
      "metadata": {}
    },
    {
      "cell_type": "markdown",
      "source": [
        "Then we can easily visualize how our quantum-walker behaves in graph $C_n$ given an initial state and a time $t = \\pi/2$, and we can see the Perfect State Transfer phenomena from vertice 0 to 2, that will be explained in the detail [here](https://github.com/matheusmtta/Quantum-Computing/blob/master/Quantum%20Information%20Theory/State_Transfer.ipynb)."
      ],
      "metadata": {}
    }
  ],
  "metadata": {
    "kernelspec": {
      "display_name": "Python 3",
      "language": "python",
      "name": "python3"
    },
    "language_info": {
      "codemirror_mode": {
        "name": "ipython",
        "version": 3
      },
      "file_extension": ".py",
      "mimetype": "text/x-python",
      "name": "python",
      "nbconvert_exporter": "python",
      "pygments_lexer": "ipython3",
      "version": "3.8.2"
    },
    "nteract": {
      "version": "0.28.0"
    }
  },
  "nbformat": 4,
  "nbformat_minor": 2
}