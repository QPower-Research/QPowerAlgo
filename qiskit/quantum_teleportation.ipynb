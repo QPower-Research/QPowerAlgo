{
 "cells": [
  {
   "cell_type": "code",
   "execution_count": 1,
   "metadata": {},
   "outputs": [
    {
     "name": "stderr",
     "output_type": "stream",
     "text": [
      "/opt/conda/lib/python3.7/site-packages/qiskit/providers/ibmq/ibmqfactory.py:192: UserWarning: Timestamps in IBMQ backend properties, jobs, and job results are all now in local time instead of UTC.\n",
      "  warnings.warn('Timestamps in IBMQ backend properties, jobs, and job results '\n"
     ]
    }
   ],
   "source": [
    "%matplotlib inline\n",
    "# Importing standard Qiskit libraries and configuring account\n",
    "from qiskit import QuantumCircuit, execute, Aer, IBMQ\n",
    "from qiskit.compiler import transpile, assemble\n",
    "from qiskit.tools.jupyter import *\n",
    "from qiskit.visualization import *\n",
    "# Loading your IBM Q account(s)\n",
    "provider = IBMQ.load_account()"
   ]
  },
  {
   "cell_type": "code",
   "execution_count": 2,
   "metadata": {},
   "outputs": [
    {
     "name": "stdout",
     "output_type": "stream",
     "text": [
      "{'1 1 0': 256, '1 0 1': 258, '1 0 0': 270, '1 1 1': 240}\n"
     ]
    }
   ],
   "source": [
    "'''\n",
    "    Quantum Teleportation\n",
    "    Send Bob a qubit from some unkown state from Alice.\n",
    "'''\n",
    "from qiskit import IBMQ, BasicAer\n",
    "from qiskit import QuantumCircuit, ClassicalRegister, QuantumRegister, execute\n",
    "\n",
    "qr = QuantumRegister(3)  # Initialize qubits\n",
    "cr0 = ClassicalRegister(1)\n",
    "cr1 = ClassicalRegister(1)\n",
    "cr2 = ClassicalRegister(1)\n",
    "circuit = QuantumCircuit(qr, cr0, cr1, cr2)\n",
    "\n",
    "# Prepare the initial state which we want to transfer\n",
    "circuit.x(qr[0])\n",
    "\n",
    "# Prepare the Bell pair\n",
    "circuit.h(qr[1])\n",
    "circuit.cx(qr[1], qr[2])\n",
    "\n",
    "circuit.barrier()\n",
    "\n",
    "# Measure in the Bell basis\n",
    "circuit.cx(qr[0], qr[1])\n",
    "circuit.h(qr[0])\n",
    "circuit.measure(qr[0], cr0[0])\n",
    "circuit.measure(qr[1], cr1[0])\n",
    "\n",
    "circuit.barrier()\n",
    "\n",
    "# Apply a correction\n",
    "circuit.z(qr[2]).c_if(cr0, 1)\n",
    "circuit.x(qr[2]).c_if(cr1, 1)\n",
    "circuit.measure(qr[2], cr2[0])\n",
    "\n",
    "# Run our circuit with local simulator\n",
    "backend = BasicAer.get_backend('qasm_simulator')\n",
    "shots = 1024\n",
    "results = execute(circuit, backend=backend, shots=shots).result()\n",
    "answer = results.get_counts()\n",
    "print(answer)"
   ]
  },
  {
   "cell_type": "code",
   "execution_count": null,
   "metadata": {},
   "outputs": [],
   "source": []
  }
 ],
 "metadata": {
  "kernelspec": {
   "display_name": "Python 3",
   "language": "python",
   "name": "python3"
  },
  "language_info": {
   "codemirror_mode": {
    "name": "ipython",
    "version": 3
   },
   "file_extension": ".py",
   "mimetype": "text/x-python",
   "name": "python",
   "nbconvert_exporter": "python",
   "pygments_lexer": "ipython3",
   "version": "3.7.8"
  }
 },
 "nbformat": 4,
 "nbformat_minor": 4
}
